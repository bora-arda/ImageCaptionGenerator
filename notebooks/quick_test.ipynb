{
 "cells": [
  {
   "cell_type": "code",
   "execution_count": null,
   "id": "70eef375",
   "metadata": {},
   "outputs": [
    {
     "name": "stdout",
     "output_type": "stream",
     "text": [
      "(8100,)\n",
      "[0.29169273 0.17284098 0.07630757 0.10154331 0.15816405 0.02941237\n",
      " 0.15900024 0.05533042 0.21555001 0.06538779 0.11610029 0.02647543\n",
      " 0.1133854  0.32852079 0.13308106 0.1288689  0.05517796 0.04610085\n",
      " 0.09782295 0.04713698]\n"
     ]
    }
   ],
   "source": [
    "import numpy as np\n",
    "\n",
    "vec = np.load(\"../data/hog/0.npy\")\n",
    "print(vec.shape)\n",
    "print(vec[:20])\n"
   ]
  }
 ],
 "metadata": {
  "kernelspec": {
   "display_name": ".NeuralNetworkDeveloping",
   "language": "python",
   "name": "python3"
  },
  "language_info": {
   "codemirror_mode": {
    "name": "ipython",
    "version": 3
   },
   "file_extension": ".py",
   "mimetype": "text/x-python",
   "name": "python",
   "nbconvert_exporter": "python",
   "pygments_lexer": "ipython3",
   "version": "3.11.1"
  }
 },
 "nbformat": 4,
 "nbformat_minor": 5
}
